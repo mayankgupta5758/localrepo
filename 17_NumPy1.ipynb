{
  "cells": [
    {
      "cell_type": "markdown",
      "metadata": {
        "id": "view-in-github",
        "colab_type": "text"
      },
      "source": [
        "<a href=\"https://colab.research.google.com/github/mayankgupta5758/localrepo/blob/main/17_NumPy1.ipynb\" target=\"_parent\"><img src=\"https://colab.research.google.com/assets/colab-badge.svg\" alt=\"Open In Colab\"/></a>"
      ]
    },
    {
      "cell_type": "markdown",
      "metadata": {
        "id": "yZyy5vQnmogF"
      },
      "source": [
        "# NumPy Basics\n",
        "\n",
        "* NumPy stands for Numerical Python and also known as array oriented computing.\n",
        "* NumPy is a library written for scientific computing and data analysis.\n",
        "* NumPy consists of a powerful data structure called multidimensional arrays.\n",
        "* The most basic object in Numpy is the ndarray, or simply an array which is an n-dimensional, homogeneous array. By homogenous, we mean that all the elements in a NumPy array have to be of the same data type, which is commonly numeric (float or integer).\n",
        "\n",
        "\n",
        " # Why NumPy?\n",
        " * convenience & speed\n",
        "\n",
        " * NumPy is much faster than the standard python ways to do computations.\n",
        "\n",
        " * We don't have to do the explicit looping and indexing etc. (all of this happens behind the scenes, in precompiled C-code), and thus it is much more concise.\n",
        "\n",
        " * NumPy arrays are more compact than lists, i.e. they take much lesser storage space than lists"
      ]
    },
    {
      "cell_type": "markdown",
      "metadata": {
        "id": "-48Xdl-jmogP"
      },
      "source": [
        "#### Install numpy library"
      ]
    },
    {
      "cell_type": "code",
      "execution_count": null,
      "metadata": {
        "id": "BummvHRtmogW",
        "outputId": "4ad1beb6-c815-4bfc-d564-893b8e3f8efd",
        "colab": {
          "base_uri": "https://localhost:8080/"
        }
      },
      "outputs": [
        {
          "output_type": "stream",
          "name": "stdout",
          "text": [
            "Looking in indexes: https://pypi.org/simple, https://us-python.pkg.dev/colab-wheels/public/simple/\n",
            "Requirement already satisfied: numpy in /usr/local/lib/python3.8/dist-packages (1.21.6)\n"
          ]
        }
      ],
      "source": [
        "pip install numpy"
      ]
    },
    {
      "cell_type": "markdown",
      "metadata": {
        "id": "KdnCy89Fmoga"
      },
      "source": [
        "#### Importing numpy library"
      ]
    },
    {
      "cell_type": "code",
      "execution_count": null,
      "metadata": {
        "id": "JHnbC6Qpmogc"
      },
      "outputs": [],
      "source": [
        "import numpy as np"
      ]
    },
    {
      "cell_type": "markdown",
      "metadata": {
        "id": "nAARG5evmoge"
      },
      "source": [
        "#### creating array using .array() method"
      ]
    },
    {
      "cell_type": "code",
      "execution_count": null,
      "metadata": {
        "id": "97cKkdwQmogf",
        "outputId": "1bce2930-7e2e-46b9-fa58-931d4c493346"
      },
      "outputs": [
        {
          "data": {
            "text/plain": [
              "array([1, 2, 3])"
            ]
          },
          "execution_count": 3,
          "metadata": {},
          "output_type": "execute_result"
        }
      ],
      "source": [
        "#Ex1)\n",
        "arr = np.array([1, 2, 3])\n",
        "arr"
      ]
    },
    {
      "cell_type": "code",
      "execution_count": null,
      "metadata": {
        "id": "1PNNuwe8mogg",
        "outputId": "0484ed85-dbac-4dba-9173-6ed2c70a3e7f"
      },
      "outputs": [
        {
          "data": {
            "text/plain": [
              "numpy.ndarray"
            ]
          },
          "execution_count": 4,
          "metadata": {},
          "output_type": "execute_result"
        }
      ],
      "source": [
        "# to check the type\n",
        "type(arr)"
      ]
    },
    {
      "cell_type": "markdown",
      "metadata": {
        "id": "f2XvAXb0mogi"
      },
      "source": [
        "#### to get the dimension"
      ]
    },
    {
      "cell_type": "code",
      "execution_count": null,
      "metadata": {
        "id": "r8EdvKKcmogl",
        "outputId": "bda94dda-8ddf-407d-a718-95d58c1564c0"
      },
      "outputs": [
        {
          "data": {
            "text/plain": [
              "(3,)"
            ]
          },
          "execution_count": 5,
          "metadata": {},
          "output_type": "execute_result"
        }
      ],
      "source": [
        "arr.shape"
      ]
    },
    {
      "cell_type": "markdown",
      "metadata": {
        "id": "Gs9iGTy5mogn"
      },
      "source": [
        "#### to get the data types of the array elements"
      ]
    },
    {
      "cell_type": "code",
      "execution_count": null,
      "metadata": {
        "id": "vaLg3QfTmogp",
        "outputId": "d8a4f5e7-fe86-4d84-c2dd-a371914d24f2"
      },
      "outputs": [
        {
          "data": {
            "text/plain": [
              "dtype('int32')"
            ]
          },
          "execution_count": 6,
          "metadata": {},
          "output_type": "execute_result"
        }
      ],
      "source": [
        "arr.dtype"
      ]
    },
    {
      "cell_type": "code",
      "execution_count": null,
      "metadata": {
        "id": "DVCN4ASJmogp",
        "outputId": "c456d097-71e3-4184-a5a0-b30f295c71db"
      },
      "outputs": [
        {
          "data": {
            "text/plain": [
              "array([[1, 2, 3],\n",
              "       [4, 5, 6],\n",
              "       [7, 8, 9]])"
            ]
          },
          "execution_count": 7,
          "metadata": {},
          "output_type": "execute_result"
        }
      ],
      "source": [
        "#Ex2) 2d array\n",
        "b = np.array([[1,2,3],[4,5,6],[7,8,9]])\n",
        "b"
      ]
    },
    {
      "cell_type": "code",
      "execution_count": null,
      "metadata": {
        "id": "O0LqW7kFmogq",
        "outputId": "fbeb9fbd-591b-4b95-8269-b4edf0b6a9bb"
      },
      "outputs": [
        {
          "data": {
            "text/plain": [
              "numpy.ndarray"
            ]
          },
          "execution_count": 8,
          "metadata": {},
          "output_type": "execute_result"
        }
      ],
      "source": [
        "type(b)"
      ]
    },
    {
      "cell_type": "code",
      "execution_count": null,
      "metadata": {
        "id": "ktBZlXgPmogs",
        "outputId": "a58b5b44-2542-44d0-f1aa-f812187668de"
      },
      "outputs": [
        {
          "data": {
            "text/plain": [
              "(3, 3)"
            ]
          },
          "execution_count": 9,
          "metadata": {},
          "output_type": "execute_result"
        }
      ],
      "source": [
        "b.shape"
      ]
    },
    {
      "cell_type": "code",
      "execution_count": null,
      "metadata": {
        "id": "cFUG2c6Xmogt",
        "outputId": "3f9b19c4-a6a5-4e2d-c9cc-238d988b7758"
      },
      "outputs": [
        {
          "data": {
            "text/plain": [
              "dtype('int32')"
            ]
          },
          "execution_count": 10,
          "metadata": {},
          "output_type": "execute_result"
        }
      ],
      "source": [
        "b.dtype"
      ]
    },
    {
      "cell_type": "code",
      "execution_count": null,
      "metadata": {
        "id": "kswz-aJomogt"
      },
      "outputs": [],
      "source": []
    },
    {
      "cell_type": "code",
      "execution_count": null,
      "metadata": {
        "id": "MgfKvVEDmogu",
        "outputId": "d2bd8e92-57a4-42dc-af34-5792e7bd3475"
      },
      "outputs": [
        {
          "data": {
            "text/plain": [
              "[0, 1, 2, 3, 4, 5, 6, 7, 8, 9]"
            ]
          },
          "execution_count": 11,
          "metadata": {},
          "output_type": "execute_result"
        }
      ],
      "source": [
        "#we have a list\n",
        "lst_1 = [i for i in range(10)]\n",
        "lst_1"
      ]
    },
    {
      "cell_type": "code",
      "execution_count": null,
      "metadata": {
        "id": "kOVYtyWqmogv",
        "outputId": "886e3672-241d-46f7-d75e-760352ef41a7"
      },
      "outputs": [
        {
          "name": "stdout",
          "output_type": "stream",
          "text": [
            "[2, 3, 4, 5, 6, 7, 8, 9, 10, 11]\n"
          ]
        }
      ],
      "source": [
        "# to add value 2 to all the elements\n",
        "\n",
        "#1) normal method\n",
        "# lst_2 = []\n",
        "# for item in lst_1:\n",
        "#     lst_2.append(item + 2)\n",
        "# print(lst_2)\n",
        "\n",
        "#2) list comprehension\n",
        "lst_2 = [i+2 for i in lst_1]\n",
        "print(lst_2)"
      ]
    },
    {
      "cell_type": "markdown",
      "metadata": {
        "id": "T1UHgBcdmogw"
      },
      "source": [
        "#### Numpy will do elementwise calculations"
      ]
    },
    {
      "cell_type": "code",
      "execution_count": null,
      "metadata": {
        "id": "NPzwJsRjmogw",
        "outputId": "5bf935be-80eb-4c93-d9d9-d3ecafbd1f27"
      },
      "outputs": [
        {
          "data": {
            "text/plain": [
              "array([0, 1, 2, 3, 4, 5, 6, 7, 8, 9])"
            ]
          },
          "execution_count": 13,
          "metadata": {},
          "output_type": "execute_result"
        }
      ],
      "source": [
        "# arange() is similar to range()\n",
        "np_arr1 = np.arange(10)\n",
        "np_arr1"
      ]
    },
    {
      "cell_type": "code",
      "execution_count": null,
      "metadata": {
        "id": "CxVw1tsbmogx",
        "outputId": "346a4de8-8361-4e47-e5b6-97f2d70ddfcb"
      },
      "outputs": [
        {
          "data": {
            "text/plain": [
              "array([ 2,  3,  4,  5,  6,  7,  8,  9, 10, 11])"
            ]
          },
          "execution_count": 14,
          "metadata": {},
          "output_type": "execute_result"
        }
      ],
      "source": [
        "np_arr2 = np_arr1 + 2\n",
        "np_arr2"
      ]
    },
    {
      "cell_type": "markdown",
      "metadata": {
        "id": "eANiPoRDmogy"
      },
      "source": [
        "# Performance measurement\n",
        "\n",
        "**%timeit** is an python function, which can be used to check the time taken by a particular piece of code (A single execution statement, or a single method)"
      ]
    },
    {
      "cell_type": "markdown",
      "metadata": {
        "id": "K_UC7WFBmogy"
      },
      "source": [
        "#### Ex1) Time taken by the normal lists to do a task"
      ]
    },
    {
      "cell_type": "code",
      "execution_count": null,
      "metadata": {
        "id": "ZcXijOlemogy",
        "outputId": "446e03b5-1dac-4183-fd1b-a1ad58a85887"
      },
      "outputs": [
        {
          "name": "stdout",
          "output_type": "stream",
          "text": [
            "7.57 ms ± 185 µs per loop (mean ± std. dev. of 7 runs, 100 loops each)\n"
          ]
        }
      ],
      "source": [
        "%timeit [i**3 for i in range(10000)]"
      ]
    },
    {
      "cell_type": "markdown",
      "metadata": {
        "id": "WWu7XKiDmogz"
      },
      "source": [
        "#### Time taken by Numpy arrays to do the same task"
      ]
    },
    {
      "cell_type": "code",
      "execution_count": null,
      "metadata": {
        "id": "58lGUGmymogz",
        "outputId": "1a57ffc8-bf6b-46d4-e8ce-7d743f5b12b2"
      },
      "outputs": [
        {
          "name": "stdout",
          "output_type": "stream",
          "text": [
            "53.8 µs ± 3.99 µs per loop (mean ± std. dev. of 7 runs, 10000 loops each)\n"
          ]
        }
      ],
      "source": [
        "%timeit np.arange(10000)**3"
      ]
    },
    {
      "cell_type": "markdown",
      "metadata": {
        "id": "S9rd-xNsmogz"
      },
      "source": [
        "#### Ex2) Time taken to multiply two lists elementwise"
      ]
    },
    {
      "cell_type": "code",
      "execution_count": null,
      "metadata": {
        "id": "x47Ae3Jvmogz"
      },
      "outputs": [],
      "source": [
        "l1 = [i for i in range(10000)]\n",
        "l2 = [i**2 for i in range(10000)]"
      ]
    },
    {
      "cell_type": "code",
      "execution_count": null,
      "metadata": {
        "id": "UJRQa6iomog0",
        "outputId": "e975c85a-1036-42ad-d3be-62f6f09c56b1"
      },
      "outputs": [
        {
          "name": "stdout",
          "output_type": "stream",
          "text": [
            "2.54 ms ± 207 µs per loop (mean ± std. dev. of 7 runs, 100 loops each)\n"
          ]
        }
      ],
      "source": [
        "%timeit list(map(lambda x, y: x*y, l1, l2))"
      ]
    },
    {
      "cell_type": "markdown",
      "metadata": {
        "id": "1JnAhrYJmog2"
      },
      "source": [
        "#### Time taken by Numpy arrays to do the same task"
      ]
    },
    {
      "cell_type": "code",
      "execution_count": null,
      "metadata": {
        "id": "TD5JFwQ6mog3"
      },
      "outputs": [],
      "source": [
        "a1 = np.arange(10000)\n",
        "b1 = np.arange(10000)**2"
      ]
    },
    {
      "cell_type": "code",
      "execution_count": null,
      "metadata": {
        "id": "h0eVbn8Qmog4",
        "outputId": "044bee43-df0d-42f1-e373-040d097c5b05"
      },
      "outputs": [
        {
          "name": "stdout",
          "output_type": "stream",
          "text": [
            "20.2 µs ± 654 ns per loop (mean ± std. dev. of 7 runs, 100000 loops each)\n"
          ]
        }
      ],
      "source": [
        "%timeit a1*b1"
      ]
    },
    {
      "cell_type": "code",
      "execution_count": null,
      "metadata": {
        "id": "j8gfALCUmog4"
      },
      "outputs": [],
      "source": []
    },
    {
      "cell_type": "markdown",
      "metadata": {
        "id": "_zneBP4nmog5"
      },
      "source": [
        "# Creating Numpy arrays"
      ]
    },
    {
      "cell_type": "markdown",
      "metadata": {
        "id": "XkZkcj1Pmog5"
      },
      "source": [
        "#### np.array(list)"
      ]
    },
    {
      "cell_type": "code",
      "execution_count": null,
      "metadata": {
        "id": "_7c03zW-mog6",
        "outputId": "07e95690-5bdc-4c91-bffe-8af5f9d5cbe7"
      },
      "outputs": [
        {
          "name": "stdout",
          "output_type": "stream",
          "text": [
            "[1 2 3]\n"
          ]
        }
      ],
      "source": [
        "#Ex 1)\n",
        "arr1 = np.array([1, 2, 3])\n",
        "print(arr1)"
      ]
    },
    {
      "cell_type": "code",
      "execution_count": null,
      "metadata": {
        "id": "XZfREy8Amog6",
        "outputId": "458f962a-ddc2-4fcb-91ca-77ec0a38347c"
      },
      "outputs": [
        {
          "name": "stdout",
          "output_type": "stream",
          "text": [
            "[[1 2 3]\n",
            " [4 5 6]\n",
            " [6 7 8]]\n"
          ]
        }
      ],
      "source": [
        "#Ex 2)\n",
        "arr2 = np.array([[1, 2, 3], [4, 5, 6], [6, 7, 8]])\n",
        "print(arr2)"
      ]
    },
    {
      "cell_type": "markdown",
      "metadata": {
        "id": "lrNH1ll-mog7"
      },
      "source": [
        "#### np.arange(start,stop,step)"
      ]
    },
    {
      "cell_type": "code",
      "execution_count": null,
      "metadata": {
        "id": "LHBENjvYmog7",
        "outputId": "70fb9e33-a9ae-44d4-f6a7-55539d9cbefa"
      },
      "outputs": [
        {
          "data": {
            "text/plain": [
              "array([0, 1, 2, 3, 4, 5, 6, 7, 8, 9])"
            ]
          },
          "execution_count": 23,
          "metadata": {},
          "output_type": "execute_result"
        }
      ],
      "source": [
        "np.arange(10)"
      ]
    },
    {
      "cell_type": "code",
      "execution_count": null,
      "metadata": {
        "id": "DtTj78M4mog9",
        "outputId": "7bcc459d-b785-4704-d5a3-4752f2c504e5"
      },
      "outputs": [
        {
          "data": {
            "text/plain": [
              "array([ 1,  2,  3,  4,  5,  6,  7,  8,  9, 10, 11, 12, 13, 14])"
            ]
          },
          "execution_count": 24,
          "metadata": {},
          "output_type": "execute_result"
        }
      ],
      "source": [
        "np.arange(1,15)"
      ]
    },
    {
      "cell_type": "code",
      "execution_count": null,
      "metadata": {
        "id": "CZlOEpHRmog9",
        "outputId": "98601f2b-e884-418a-9dfb-236cbb65ad8c"
      },
      "outputs": [
        {
          "data": {
            "text/plain": [
              "array([ 1,  3,  5,  7,  9, 11, 13, 15, 17, 19])"
            ]
          },
          "execution_count": 25,
          "metadata": {},
          "output_type": "execute_result"
        }
      ],
      "source": [
        "np.arange(1,21,2)"
      ]
    },
    {
      "cell_type": "code",
      "execution_count": null,
      "metadata": {
        "id": "Pel2S9uPmog-",
        "outputId": "a4e1f976-675b-4923-9f32-df90bd58fd63"
      },
      "outputs": [
        {
          "data": {
            "text/plain": [
              "array([21, 19, 17, 15, 13, 11,  9,  7,  5,  3,  1])"
            ]
          },
          "execution_count": 26,
          "metadata": {},
          "output_type": "execute_result"
        }
      ],
      "source": [
        "np.arange(21,0,-2)"
      ]
    },
    {
      "cell_type": "markdown",
      "metadata": {
        "id": "buQg-0brmog-"
      },
      "source": [
        "#### np.zeros(shape)"
      ]
    },
    {
      "cell_type": "code",
      "execution_count": null,
      "metadata": {
        "id": "kDOSf1PNmog_",
        "outputId": "00d2852a-a0e4-4d59-8157-bf268b2ee065"
      },
      "outputs": [
        {
          "data": {
            "text/plain": [
              "array([[0., 0., 0.],\n",
              "       [0., 0., 0.],\n",
              "       [0., 0., 0.]])"
            ]
          },
          "execution_count": 27,
          "metadata": {},
          "output_type": "execute_result"
        }
      ],
      "source": [
        "np.zeros((3, 3))"
      ]
    },
    {
      "cell_type": "code",
      "execution_count": null,
      "metadata": {
        "id": "atOOhcn6mog_",
        "outputId": "c9e89e17-fb74-483c-94e5-f6ef69bc8aa0"
      },
      "outputs": [
        {
          "data": {
            "text/plain": [
              "array([[0, 0, 0],\n",
              "       [0, 0, 0],\n",
              "       [0, 0, 0]])"
            ]
          },
          "execution_count": 28,
          "metadata": {},
          "output_type": "execute_result"
        }
      ],
      "source": [
        "np.zeros((3,3), dtype=np.int32)"
      ]
    },
    {
      "cell_type": "code",
      "execution_count": null,
      "metadata": {
        "id": "XPBZzx0fmohA",
        "outputId": "5ef3c799-e8ba-449c-aff5-c7521bc2d771"
      },
      "outputs": [
        {
          "data": {
            "text/plain": [
              "array([0])"
            ]
          },
          "execution_count": 29,
          "metadata": {},
          "output_type": "execute_result"
        }
      ],
      "source": [
        "np.zeros(1, dtype=np.int32) #vector"
      ]
    },
    {
      "cell_type": "code",
      "execution_count": null,
      "metadata": {
        "id": "6Q_ndjwlmohA",
        "outputId": "778e0993-1f7a-4be3-c291-5ca66134614c"
      },
      "outputs": [
        {
          "data": {
            "text/plain": [
              "array([[0]])"
            ]
          },
          "execution_count": 30,
          "metadata": {},
          "output_type": "execute_result"
        }
      ],
      "source": [
        "np.zeros((1,1), dtype=np.int32) #matrix"
      ]
    },
    {
      "cell_type": "markdown",
      "metadata": {
        "id": "S891zYvZmohB"
      },
      "source": [
        "#### np.zeros_like(ndarray)"
      ]
    },
    {
      "cell_type": "code",
      "execution_count": null,
      "metadata": {
        "id": "v63Hkzy3mohB",
        "outputId": "c5f06645-c6fa-4c91-d6f6-7fb13257ea92"
      },
      "outputs": [
        {
          "name": "stdout",
          "output_type": "stream",
          "text": [
            "[[2 3]\n",
            " [2 4]\n",
            " [8 9]]\n",
            "(3, 2)\n"
          ]
        }
      ],
      "source": [
        "a = np.array([[2, 3], [2, 4], [8, 9]])\n",
        "print(a)\n",
        "print(a.shape)"
      ]
    },
    {
      "cell_type": "code",
      "execution_count": null,
      "metadata": {
        "id": "_Nc-elGNmohD",
        "outputId": "c394b11e-08eb-4e2e-8e0d-84990beb8f2b"
      },
      "outputs": [
        {
          "data": {
            "text/plain": [
              "array([[0, 0],\n",
              "       [0, 0],\n",
              "       [0, 0]])"
            ]
          },
          "execution_count": 32,
          "metadata": {},
          "output_type": "execute_result"
        }
      ],
      "source": [
        "np.zeros_like(a)"
      ]
    },
    {
      "cell_type": "markdown",
      "metadata": {
        "id": "2MEqG-Q8mohE"
      },
      "source": [
        "#### np.ones(shape)"
      ]
    },
    {
      "cell_type": "code",
      "execution_count": null,
      "metadata": {
        "id": "xTiHwv2PmohF",
        "outputId": "2f1ea4e9-f769-4f08-925b-4019c7118cad"
      },
      "outputs": [
        {
          "data": {
            "text/plain": [
              "array([[1., 1., 1.],\n",
              "       [1., 1., 1.],\n",
              "       [1., 1., 1.]])"
            ]
          },
          "execution_count": 33,
          "metadata": {},
          "output_type": "execute_result"
        }
      ],
      "source": [
        "np.ones((3, 3))"
      ]
    },
    {
      "cell_type": "code",
      "execution_count": null,
      "metadata": {
        "id": "2waIDzArmohH",
        "outputId": "961012d8-75b1-49f5-9950-dd17db951f4f"
      },
      "outputs": [
        {
          "data": {
            "text/plain": [
              "array([[1, 1, 1],\n",
              "       [1, 1, 1],\n",
              "       [1, 1, 1]])"
            ]
          },
          "execution_count": 34,
          "metadata": {},
          "output_type": "execute_result"
        }
      ],
      "source": [
        "np.ones((3,3), dtype=int)"
      ]
    },
    {
      "cell_type": "code",
      "execution_count": null,
      "metadata": {
        "id": "YiIkcvPymohH",
        "outputId": "a3299f58-cf82-4493-a279-e4d167027faa"
      },
      "outputs": [
        {
          "data": {
            "text/plain": [
              "array([1])"
            ]
          },
          "execution_count": 35,
          "metadata": {},
          "output_type": "execute_result"
        }
      ],
      "source": [
        "np.ones(1, dtype=np.int32) #vector"
      ]
    },
    {
      "cell_type": "code",
      "execution_count": null,
      "metadata": {
        "id": "srDGYtHSmohH",
        "outputId": "66f3e85a-7a72-4526-cb9c-4c907d8caa74"
      },
      "outputs": [
        {
          "data": {
            "text/plain": [
              "array([[1]])"
            ]
          },
          "execution_count": 36,
          "metadata": {},
          "output_type": "execute_result"
        }
      ],
      "source": [
        "np.ones((1,1), dtype=np.int32) #matrix"
      ]
    },
    {
      "cell_type": "markdown",
      "metadata": {
        "id": "U-FZA4wimohI"
      },
      "source": [
        "#### np.ones_like(ndarray)"
      ]
    },
    {
      "cell_type": "code",
      "execution_count": null,
      "metadata": {
        "id": "BwN1z-e3mohI",
        "outputId": "9d2f214f-0ca3-4202-8488-b4488dd0f478"
      },
      "outputs": [
        {
          "name": "stdout",
          "output_type": "stream",
          "text": [
            "[[2 3]\n",
            " [2 4]\n",
            " [8 9]]\n",
            "(3, 2)\n"
          ]
        }
      ],
      "source": [
        "a = np.array([[2, 3], [2, 4], [8, 9]])\n",
        "print(a)\n",
        "print(a.shape)"
      ]
    },
    {
      "cell_type": "code",
      "execution_count": null,
      "metadata": {
        "id": "MAq11ny3mohJ",
        "outputId": "5e651fd8-23c3-447e-ca7c-22bdf410cd0b"
      },
      "outputs": [
        {
          "data": {
            "text/plain": [
              "array([[1, 1],\n",
              "       [1, 1],\n",
              "       [1, 1]])"
            ]
          },
          "execution_count": 38,
          "metadata": {},
          "output_type": "execute_result"
        }
      ],
      "source": [
        "np.ones_like(a)"
      ]
    },
    {
      "cell_type": "markdown",
      "metadata": {
        "id": "GoE66qmmmohJ"
      },
      "source": [
        "#### np.full(shape,value)"
      ]
    },
    {
      "cell_type": "code",
      "execution_count": null,
      "metadata": {
        "id": "x-LrqeOhmohJ",
        "outputId": "38b8b584-402f-4a07-9db0-617aba8ed108"
      },
      "outputs": [
        {
          "data": {
            "text/plain": [
              "array([[3.3, 3.3, 3.3],\n",
              "       [3.3, 3.3, 3.3],\n",
              "       [3.3, 3.3, 3.3],\n",
              "       [3.3, 3.3, 3.3],\n",
              "       [3.3, 3.3, 3.3]])"
            ]
          },
          "execution_count": 39,
          "metadata": {},
          "output_type": "execute_result"
        }
      ],
      "source": [
        "np.full((5, 3), 3.3)"
      ]
    },
    {
      "cell_type": "code",
      "execution_count": null,
      "metadata": {
        "id": "0L9c-KJQmohK",
        "outputId": "dd095536-d47e-4ced-b9d8-ca7eb84e947e"
      },
      "outputs": [
        {
          "data": {
            "text/plain": [
              "array([[3, 3, 3, 3],\n",
              "       [3, 3, 3, 3]])"
            ]
          },
          "execution_count": 40,
          "metadata": {},
          "output_type": "execute_result"
        }
      ],
      "source": [
        "np.full((2, 4),  3.7, dtype=np.int32)"
      ]
    },
    {
      "cell_type": "markdown",
      "metadata": {
        "id": "ryzDnqs0mohK"
      },
      "source": [
        "#### np.eye(m) : this method is used to create identity matrix , here m = n"
      ]
    },
    {
      "cell_type": "code",
      "execution_count": null,
      "metadata": {
        "id": "CyhdjXNBmohL",
        "outputId": "c04e34f0-4519-44a6-9506-c4a1c88b57c5"
      },
      "outputs": [
        {
          "data": {
            "text/plain": [
              "array([[1., 0., 0., 0., 0.],\n",
              "       [0., 1., 0., 0., 0.],\n",
              "       [0., 0., 1., 0., 0.],\n",
              "       [0., 0., 0., 1., 0.],\n",
              "       [0., 0., 0., 0., 1.]])"
            ]
          },
          "execution_count": 41,
          "metadata": {},
          "output_type": "execute_result"
        }
      ],
      "source": [
        "np.eye(5)"
      ]
    },
    {
      "cell_type": "code",
      "execution_count": null,
      "metadata": {
        "id": "PPYG7CZqmohL",
        "outputId": "27933003-ff6c-472f-9ecc-1051ddbe5d97"
      },
      "outputs": [
        {
          "data": {
            "text/plain": [
              "array([[1, 0, 0, 0],\n",
              "       [0, 1, 0, 0],\n",
              "       [0, 0, 1, 0],\n",
              "       [0, 0, 0, 1]])"
            ]
          },
          "execution_count": 42,
          "metadata": {},
          "output_type": "execute_result"
        }
      ],
      "source": [
        "np.eye(4,dtype=np.int32)"
      ]
    },
    {
      "cell_type": "markdown",
      "metadata": {
        "id": "ZVBaMyAwmohM"
      },
      "source": [
        "#### np.diag(list) : is used to create diagonal matrix"
      ]
    },
    {
      "cell_type": "code",
      "execution_count": null,
      "metadata": {
        "id": "WVo1k6g2mohM",
        "outputId": "84b33cc9-3f1c-4581-cb88-de368f0fcc68"
      },
      "outputs": [
        {
          "data": {
            "text/plain": [
              "array([[ 2,  0,  0,  0],\n",
              "       [ 0,  5,  0,  0],\n",
              "       [ 0,  0, 68,  0],\n",
              "       [ 0,  0,  0, 78]])"
            ]
          },
          "execution_count": 43,
          "metadata": {},
          "output_type": "execute_result"
        }
      ],
      "source": [
        "np.diag([2, 5, 68, 78])"
      ]
    },
    {
      "cell_type": "code",
      "execution_count": null,
      "metadata": {
        "id": "A0RspP8smohN",
        "outputId": "e92ae46c-cb46-4fb7-f114-20254c0e77a0"
      },
      "outputs": [
        {
          "data": {
            "text/plain": [
              "array([[ 1,  0,  0,  0,  0,  0,  0,  0],\n",
              "       [ 0,  3,  0,  0,  0,  0,  0,  0],\n",
              "       [ 0,  0,  5,  0,  0,  0,  0,  0],\n",
              "       [ 0,  0,  0,  7,  0,  0,  0,  0],\n",
              "       [ 0,  0,  0,  0,  9,  0,  0,  0],\n",
              "       [ 0,  0,  0,  0,  0, 11,  0,  0],\n",
              "       [ 0,  0,  0,  0,  0,  0, 13,  0],\n",
              "       [ 0,  0,  0,  0,  0,  0,  0, 15]])"
            ]
          },
          "execution_count": 44,
          "metadata": {},
          "output_type": "execute_result"
        }
      ],
      "source": [
        "np.diag(np.arange(1,16,2))"
      ]
    },
    {
      "cell_type": "code",
      "execution_count": null,
      "metadata": {
        "id": "PVwlORQBmohO"
      },
      "outputs": [],
      "source": []
    },
    {
      "cell_type": "markdown",
      "metadata": {
        "id": "HIkoaBhomohO"
      },
      "source": [
        "# Accessing and Slicing Numpy array elements"
      ]
    },
    {
      "cell_type": "markdown",
      "metadata": {
        "id": "AITo0tkamohP"
      },
      "source": [
        "### 1D arrays"
      ]
    },
    {
      "cell_type": "code",
      "execution_count": null,
      "metadata": {
        "id": "hFLR-ZAimohP",
        "outputId": "b1fe1cf6-4185-4214-84ed-fb7f0af902d9"
      },
      "outputs": [
        {
          "data": {
            "text/plain": [
              "array([ 2,  4,  6,  8, 10, 12, 14, 16])"
            ]
          },
          "execution_count": 45,
          "metadata": {},
          "output_type": "execute_result"
        }
      ],
      "source": [
        "a = np.array([2,4,6,8,10,12,14,16])\n",
        "a"
      ]
    },
    {
      "cell_type": "code",
      "execution_count": null,
      "metadata": {
        "id": "C8lkL-BUmohQ",
        "outputId": "d8ecbb10-dd60-4149-bb8b-34e6b784897b"
      },
      "outputs": [
        {
          "data": {
            "text/plain": [
              "2"
            ]
          },
          "execution_count": 46,
          "metadata": {},
          "output_type": "execute_result"
        }
      ],
      "source": [
        "# accessing first element\n",
        "a[0]"
      ]
    },
    {
      "cell_type": "code",
      "execution_count": null,
      "metadata": {
        "id": "pqgopdsSmohR",
        "outputId": "4b7b9f7c-c3a7-40c9-a9ed-21934f3c826d"
      },
      "outputs": [
        {
          "data": {
            "text/plain": [
              "6"
            ]
          },
          "execution_count": 47,
          "metadata": {},
          "output_type": "execute_result"
        }
      ],
      "source": [
        "# accessing third element\n",
        "a[2]"
      ]
    },
    {
      "cell_type": "code",
      "execution_count": null,
      "metadata": {
        "id": "75jqOpW7mohS",
        "outputId": "19098639-2d0d-49e5-ba6c-9918032573e3"
      },
      "outputs": [
        {
          "data": {
            "text/plain": [
              "16"
            ]
          },
          "execution_count": 48,
          "metadata": {},
          "output_type": "execute_result"
        }
      ],
      "source": [
        "# accessing last element\n",
        "a[-1]"
      ]
    },
    {
      "cell_type": "code",
      "execution_count": null,
      "metadata": {
        "id": "cEjxMH32mohS",
        "outputId": "588a08ad-a48f-47b7-88e8-566867d17a69"
      },
      "outputs": [
        {
          "data": {
            "text/plain": [
              "array([ 2,  6, 10])"
            ]
          },
          "execution_count": 49,
          "metadata": {},
          "output_type": "execute_result"
        }
      ],
      "source": [
        "# accessing multiple elements\n",
        "a[[0,2,4]]"
      ]
    },
    {
      "cell_type": "code",
      "execution_count": null,
      "metadata": {
        "id": "gAWM3OSamohT",
        "outputId": "03759f38-803b-4f75-9905-8a146aab24d4"
      },
      "outputs": [
        {
          "data": {
            "text/plain": [
              "array([ 6,  8, 10, 12, 14, 16])"
            ]
          },
          "execution_count": 50,
          "metadata": {},
          "output_type": "execute_result"
        }
      ],
      "source": [
        "# slicing\n",
        "# to get all the elements from 2nd index\n",
        "a[2:]"
      ]
    },
    {
      "cell_type": "code",
      "execution_count": null,
      "metadata": {
        "id": "ildQ9a0qmohT",
        "outputId": "e9bc35f8-ab69-4509-a04b-4f0ef7953830"
      },
      "outputs": [
        {
          "data": {
            "text/plain": [
              "array([ 2,  6, 10, 14])"
            ]
          },
          "execution_count": 51,
          "metadata": {},
          "output_type": "execute_result"
        }
      ],
      "source": [
        "# to get all the alternate elements\n",
        "a[::2]"
      ]
    },
    {
      "cell_type": "markdown",
      "metadata": {
        "id": "KRlkiLHYmohT"
      },
      "source": [
        "### n-dimension array"
      ]
    },
    {
      "cell_type": "code",
      "execution_count": null,
      "metadata": {
        "id": "3jDbDfSsmohU"
      },
      "outputs": [],
      "source": [
        "# consider we have 2D array\n",
        "a = np.array([[ 0,  1,  2,  3],[ 4,  5,  6,  7],[ 8,  9, 10, 11],[12, 13, 14, 15]])"
      ]
    },
    {
      "cell_type": "code",
      "execution_count": null,
      "metadata": {
        "id": "szsSyU7kmohU",
        "outputId": "071b7e15-7b45-4eb0-b8ad-a3e6c457f959"
      },
      "outputs": [
        {
          "data": {
            "text/plain": [
              "array([[ 0,  1,  2,  3],\n",
              "       [ 4,  5,  6,  7],\n",
              "       [ 8,  9, 10, 11],\n",
              "       [12, 13, 14, 15]])"
            ]
          },
          "execution_count": 53,
          "metadata": {},
          "output_type": "execute_result"
        }
      ],
      "source": [
        "a"
      ]
    },
    {
      "cell_type": "code",
      "execution_count": null,
      "metadata": {
        "id": "SpzOOGDMmohV",
        "outputId": "c48bfe9e-a750-48b2-9598-ff44b1023073"
      },
      "outputs": [
        {
          "data": {
            "text/plain": [
              "10"
            ]
          },
          "execution_count": 54,
          "metadata": {},
          "output_type": "execute_result"
        }
      ],
      "source": [
        "# to access 10\n",
        "# a[rowIndex,columnIndex]\n",
        "\n",
        "a[2,2]"
      ]
    },
    {
      "cell_type": "code",
      "execution_count": null,
      "metadata": {
        "id": "Gh52nwYkmohW",
        "outputId": "845a872f-9a42-4bac-e496-5d6e73fc0be0"
      },
      "outputs": [
        {
          "data": {
            "text/plain": [
              "13"
            ]
          },
          "execution_count": 55,
          "metadata": {},
          "output_type": "execute_result"
        }
      ],
      "source": [
        "# to access 13\n",
        "a[3,1]"
      ]
    },
    {
      "cell_type": "code",
      "execution_count": null,
      "metadata": {
        "id": "JIiTYG2QmohX",
        "outputId": "8cbd0c12-a5e4-4366-9401-dd68c00f1fe0"
      },
      "outputs": [
        {
          "data": {
            "text/plain": [
              "array([[0, 1],\n",
              "       [4, 5]])"
            ]
          },
          "execution_count": 56,
          "metadata": {},
          "output_type": "execute_result"
        }
      ],
      "source": [
        "# to get 0,1,4,5\n",
        "a[0:2, 0:2]"
      ]
    },
    {
      "cell_type": "code",
      "execution_count": null,
      "metadata": {
        "id": "2jlKUlPemohY",
        "outputId": "ece1342b-e5b3-41b1-ee58-4f91adccc86e"
      },
      "outputs": [
        {
          "data": {
            "text/plain": [
              "array([[10, 11],\n",
              "       [14, 15]])"
            ]
          },
          "execution_count": 57,
          "metadata": {},
          "output_type": "execute_result"
        }
      ],
      "source": [
        "# to get 10,11,14,15\n",
        "a[2:,2:]"
      ]
    },
    {
      "cell_type": "code",
      "execution_count": null,
      "metadata": {
        "id": "X8lypwRtmohY",
        "outputId": "c3785a04-089a-410b-f5db-03191309f0f5"
      },
      "outputs": [
        {
          "data": {
            "text/plain": [
              "array([[ 5,  6],\n",
              "       [ 9, 10]])"
            ]
          },
          "execution_count": 58,
          "metadata": {},
          "output_type": "execute_result"
        }
      ],
      "source": [
        "# similarly to get 5,6,9,10\n",
        "a[1:3,1:3]"
      ]
    },
    {
      "cell_type": "code",
      "execution_count": null,
      "metadata": {
        "id": "XpdWQ9QsmohZ",
        "outputId": "42f5c803-1546-4ea3-d782-a79dc1fb7d50"
      },
      "outputs": [
        {
          "data": {
            "text/plain": [
              "array([[False, False, False, False],\n",
              "       [False, False,  True,  True],\n",
              "       [ True,  True,  True,  True],\n",
              "       [ True,  True,  True,  True]])"
            ]
          },
          "execution_count": 59,
          "metadata": {},
          "output_type": "execute_result"
        }
      ],
      "source": [
        "# to check which elements are greater than 5\n",
        "a>5"
      ]
    },
    {
      "cell_type": "code",
      "execution_count": null,
      "metadata": {
        "id": "XntiZnBOmohZ",
        "outputId": "fa81f52a-e460-4b3a-a1a6-a631b71d92e6"
      },
      "outputs": [
        {
          "data": {
            "text/plain": [
              "array([ 6,  7,  8,  9, 10, 11, 12, 13, 14, 15])"
            ]
          },
          "execution_count": 60,
          "metadata": {},
          "output_type": "execute_result"
        }
      ],
      "source": [
        "# to get the elements that are greater than 5\n",
        "a[a>5]"
      ]
    },
    {
      "cell_type": "code",
      "execution_count": null,
      "metadata": {
        "id": "ZCd4uvJumohZ",
        "outputId": "d31772d6-54db-43cd-e929-e5373d86fded"
      },
      "outputs": [
        {
          "data": {
            "text/plain": [
              "array([6, 7, 8, 9])"
            ]
          },
          "execution_count": 61,
          "metadata": {},
          "output_type": "execute_result"
        }
      ],
      "source": [
        "# to get the elements between 5 to 10\n",
        "a[(a > 5) & (a < 10)]"
      ]
    },
    {
      "cell_type": "code",
      "execution_count": null,
      "metadata": {
        "id": "Ixg2eZK3mohZ"
      },
      "outputs": [],
      "source": []
    },
    {
      "cell_type": "markdown",
      "metadata": {
        "id": "5FqKSvaFmoha"
      },
      "source": [
        "# Copying and modifying the numpy arrays"
      ]
    },
    {
      "cell_type": "code",
      "execution_count": null,
      "metadata": {
        "id": "KGIRfMt1moha",
        "outputId": "6851a16c-eb38-4593-ddf1-05b05ef9e989"
      },
      "outputs": [
        {
          "data": {
            "text/plain": [
              "array([ 0,  1,  2,  3,  4,  5,  6,  7,  8,  9, 10])"
            ]
          },
          "execution_count": 62,
          "metadata": {},
          "output_type": "execute_result"
        }
      ],
      "source": [
        "a = np.arange(11)\n",
        "a"
      ]
    },
    {
      "cell_type": "code",
      "execution_count": null,
      "metadata": {
        "id": "tSwmYk4omoha",
        "outputId": "1cb162a7-d3a3-4e54-b8ee-626a731113fb"
      },
      "outputs": [
        {
          "data": {
            "text/plain": [
              "array([ 0,  1,  2,  3,  4,  5,  6,  7,  8,  9, 10])"
            ]
          },
          "execution_count": 63,
          "metadata": {},
          "output_type": "execute_result"
        }
      ],
      "source": [
        "b = a\n",
        "b"
      ]
    },
    {
      "cell_type": "code",
      "execution_count": null,
      "metadata": {
        "id": "uzhdpib_moha"
      },
      "outputs": [],
      "source": [
        "b[0] = 100"
      ]
    },
    {
      "cell_type": "code",
      "execution_count": null,
      "metadata": {
        "id": "MB7HSJzRmohb",
        "outputId": "308b8a51-d3be-4feb-dd1a-4ac54e6dba3c"
      },
      "outputs": [
        {
          "data": {
            "text/plain": [
              "array([100,   1,   2,   3,   4,   5,   6,   7,   8,   9,  10])"
            ]
          },
          "execution_count": 65,
          "metadata": {},
          "output_type": "execute_result"
        }
      ],
      "source": [
        "b"
      ]
    },
    {
      "cell_type": "code",
      "execution_count": null,
      "metadata": {
        "id": "ZBR5CNg-mohb",
        "outputId": "7d36c20a-21d5-4403-d180-3e703b0d9682"
      },
      "outputs": [
        {
          "data": {
            "text/plain": [
              "array([100,   1,   2,   3,   4,   5,   6,   7,   8,   9,  10])"
            ]
          },
          "execution_count": 66,
          "metadata": {},
          "output_type": "execute_result"
        }
      ],
      "source": [
        "a"
      ]
    },
    {
      "cell_type": "markdown",
      "metadata": {
        "id": "ruSsfuuGmohc"
      },
      "source": [
        "##### shares_memory()\n",
        "this method checks if both the arrays shares the same memory"
      ]
    },
    {
      "cell_type": "code",
      "execution_count": null,
      "metadata": {
        "id": "hSqPomrNmohc",
        "outputId": "9f29366b-dd39-4464-80d4-c2c257dc50d4"
      },
      "outputs": [
        {
          "data": {
            "text/plain": [
              "True"
            ]
          },
          "execution_count": 67,
          "metadata": {},
          "output_type": "execute_result"
        }
      ],
      "source": [
        "np.shares_memory(a,b)"
      ]
    },
    {
      "cell_type": "markdown",
      "metadata": {
        "id": "deAMgn8tmohd"
      },
      "source": [
        "#### .copy()"
      ]
    },
    {
      "cell_type": "code",
      "execution_count": null,
      "metadata": {
        "id": "oaXYrd-Qmohe",
        "outputId": "77a9ce5c-96a2-4d90-d234-cbf0a3b95f8a"
      },
      "outputs": [
        {
          "data": {
            "text/plain": [
              "array([ 0,  1,  2,  3,  4,  5,  6,  7,  8,  9, 10])"
            ]
          },
          "execution_count": 68,
          "metadata": {},
          "output_type": "execute_result"
        }
      ],
      "source": [
        "a = np.arange(11)\n",
        "a"
      ]
    },
    {
      "cell_type": "code",
      "execution_count": null,
      "metadata": {
        "id": "7e50jSRymohe"
      },
      "outputs": [],
      "source": [
        "b = a.copy()\n",
        "b"
      ]
    },
    {
      "cell_type": "code",
      "execution_count": null,
      "metadata": {
        "id": "6iUDJgJGmohe"
      },
      "outputs": [],
      "source": [
        "b[0] = 100"
      ]
    },
    {
      "cell_type": "code",
      "execution_count": null,
      "metadata": {
        "id": "ITefttg9mohf",
        "outputId": "4fde29e8-67cd-497d-cce3-dcc34939417a"
      },
      "outputs": [
        {
          "data": {
            "text/plain": [
              "array([100,   1,   2,   3,   4,   5,   6,   7,   8,   9,  10])"
            ]
          },
          "execution_count": 70,
          "metadata": {},
          "output_type": "execute_result"
        }
      ],
      "source": [
        "b"
      ]
    },
    {
      "cell_type": "code",
      "execution_count": null,
      "metadata": {
        "id": "rSfSv-67mohf",
        "outputId": "6882b0ac-70aa-4803-ef80-2bcdafd8c605"
      },
      "outputs": [
        {
          "data": {
            "text/plain": [
              "array([ 0,  1,  2,  3,  4,  5,  6,  7,  8,  9, 10])"
            ]
          },
          "execution_count": 71,
          "metadata": {},
          "output_type": "execute_result"
        }
      ],
      "source": [
        "a"
      ]
    },
    {
      "cell_type": "code",
      "execution_count": null,
      "metadata": {
        "id": "xNLSA2f1mohg",
        "outputId": "b3faa38d-6ef0-4d72-9405-0438a8fd3f35"
      },
      "outputs": [
        {
          "data": {
            "text/plain": [
              "False"
            ]
          },
          "execution_count": 72,
          "metadata": {},
          "output_type": "execute_result"
        }
      ],
      "source": [
        "np.shares_memory(a,b)"
      ]
    },
    {
      "cell_type": "code",
      "execution_count": null,
      "metadata": {
        "id": "QuQt5rp3mohg"
      },
      "outputs": [],
      "source": []
    }
  ],
  "metadata": {
    "kernelspec": {
      "display_name": "Python 3",
      "language": "python",
      "name": "python3"
    },
    "language_info": {
      "codemirror_mode": {
        "name": "ipython",
        "version": 3
      },
      "file_extension": ".py",
      "mimetype": "text/x-python",
      "name": "python",
      "nbconvert_exporter": "python",
      "pygments_lexer": "ipython3",
      "version": "3.7.3"
    },
    "colab": {
      "provenance": [],
      "include_colab_link": true
    }
  },
  "nbformat": 4,
  "nbformat_minor": 0
}