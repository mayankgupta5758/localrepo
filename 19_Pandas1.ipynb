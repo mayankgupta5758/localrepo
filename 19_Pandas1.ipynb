{
  "cells": [
    {
      "cell_type": "markdown",
      "metadata": {
        "id": "view-in-github",
        "colab_type": "text"
      },
      "source": [
        "<a href=\"https://colab.research.google.com/github/mayankgupta5758/localrepo/blob/main/19_Pandas1.ipynb\" target=\"_parent\"><img src=\"https://colab.research.google.com/assets/colab-badge.svg\" alt=\"Open In Colab\"/></a>"
      ]
    },
    {
      "cell_type": "markdown",
      "metadata": {
        "id": "lvHpRraBe0OE"
      },
      "source": [
        "# Pandas\n",
        "\n",
        "* Pandas is an open-source Python Library providing high-performance data manipulation and analysis tool using its powerful data structures.\n",
        "\n",
        "* Using Pandas, we can accomplish five typical steps in the processing and analysis of data, regardless of the origin of data — load, prepare, manipulate, model, and analyze.\n",
        "\n",
        "\n",
        "\n",
        "* Pandas deals with the following three data structures\n",
        "\n",
        "    1) Series\n",
        "\n",
        "    2) DataFrame\n",
        "\n",
        "    3) Panel\n",
        "    \n",
        "## 1) Series\n",
        "Series is a one-dimensional array like structure with homogeneous data.\n",
        "    \n",
        "### Creating Series\n",
        "A series can be created using various inputs like −\n",
        "\n",
        "1) Array.\n",
        "\n",
        "2) Dict.\n",
        "\n",
        "3) Scalar value or constant"
      ]
    },
    {
      "cell_type": "markdown",
      "metadata": {
        "id": "25FqeENre0OR"
      },
      "source": [
        "##### installing pandas"
      ]
    },
    {
      "cell_type": "code",
      "execution_count": null,
      "metadata": {
        "id": "Cre27YHde0OR",
        "outputId": "ae1329d4-a765-44d1-cdbe-f2723fdbf0f5"
      },
      "outputs": [
        {
          "name": "stdout",
          "output_type": "stream",
          "text": [
            "Requirement already satisfied: pandas in c:\\users\\vinay\\anaconda3\\lib\\site-packages (0.24.2)\n",
            "Requirement already satisfied: numpy>=1.12.0 in c:\\users\\vinay\\anaconda3\\lib\\site-packages (from pandas) (1.16.4)\n",
            "Requirement already satisfied: python-dateutil>=2.5.0 in c:\\users\\vinay\\anaconda3\\lib\\site-packages (from pandas) (2.8.0)\n",
            "Requirement already satisfied: pytz>=2011k in c:\\users\\vinay\\anaconda3\\lib\\site-packages (from pandas) (2019.1)\n",
            "Requirement already satisfied: six>=1.5 in c:\\users\\vinay\\anaconda3\\lib\\site-packages (from python-dateutil>=2.5.0->pandas) (1.12.0)\n"
          ]
        }
      ],
      "source": [
        "!pip install pandas"
      ]
    },
    {
      "cell_type": "markdown",
      "metadata": {
        "id": "giROrGDLe0OT"
      },
      "source": [
        "#### 1) Array"
      ]
    },
    {
      "cell_type": "code",
      "execution_count": null,
      "metadata": {
        "id": "dzXfihqae0OT"
      },
      "outputs": [],
      "source": [
        "#import the pandas library and aliasing as pd\n",
        "import pandas as pd\n",
        "import numpy as np"
      ]
    },
    {
      "cell_type": "code",
      "execution_count": null,
      "metadata": {
        "id": "XjaZmalre0OT",
        "outputId": "36091f4a-2eb9-4b15-d535-e56913a3bcbd"
      },
      "outputs": [
        {
          "name": "stdout",
          "output_type": "stream",
          "text": [
            "['a' 'b' 'c' 'd']\n"
          ]
        }
      ],
      "source": [
        "#Without passing index\n",
        "#numpy array\n",
        "arr = np.array(['a','b','c','d'])\n",
        "print(arr)"
      ]
    },
    {
      "cell_type": "code",
      "execution_count": null,
      "metadata": {
        "id": "LnmtewxUe0OU",
        "outputId": "aa3f52e2-5532-42ca-a416-628c8722c70c"
      },
      "outputs": [
        {
          "name": "stdout",
          "output_type": "stream",
          "text": [
            "0    a\n",
            "1    b\n",
            "2    c\n",
            "3    d\n",
            "dtype: object\n"
          ]
        }
      ],
      "source": [
        "#creating the series using numpy array\n",
        "s = pd.Series(arr)\n",
        "print(s)"
      ]
    },
    {
      "cell_type": "code",
      "execution_count": null,
      "metadata": {
        "id": "hBlTOgNce0OU",
        "outputId": "3e2e69be-0a1f-409e-d1e3-5d35d618ce21"
      },
      "outputs": [
        {
          "data": {
            "text/plain": [
              "pandas.core.series.Series"
            ]
          },
          "execution_count": 5,
          "metadata": {},
          "output_type": "execute_result"
        }
      ],
      "source": [
        "#check the type\n",
        "type(s)"
      ]
    },
    {
      "cell_type": "code",
      "execution_count": null,
      "metadata": {
        "id": "r5g5IZ1te0OU",
        "outputId": "df66559b-017b-4961-d247-14de4e807e28"
      },
      "outputs": [
        {
          "data": {
            "text/plain": [
              "100    a\n",
              "101    b\n",
              "102    c\n",
              "103    d\n",
              "dtype: object"
            ]
          },
          "execution_count": 6,
          "metadata": {},
          "output_type": "execute_result"
        }
      ],
      "source": [
        "#by passing index.\n",
        "#numpy array\n",
        "arr = np.array(['a','b','c','d'])\n",
        "\n",
        "#creating series\n",
        "s = pd.Series(arr,index=[100,101,102,103])\n",
        "s"
      ]
    },
    {
      "cell_type": "markdown",
      "metadata": {
        "id": "HcyjL7aJe0OU"
      },
      "source": [
        "#### 2) Dictionary\n",
        "here keys will be our default indexes"
      ]
    },
    {
      "cell_type": "code",
      "execution_count": null,
      "metadata": {
        "id": "Y7r3j7jMe0OV",
        "outputId": "06b4187b-4fd9-4dc9-bd16-8ac49d57488e"
      },
      "outputs": [
        {
          "data": {
            "text/plain": [
              "a    0\n",
              "b    1\n",
              "c    2\n",
              "dtype: int64"
            ]
          },
          "execution_count": 7,
          "metadata": {},
          "output_type": "execute_result"
        }
      ],
      "source": [
        "# Ex1)\n",
        "data = {'a' : 0, 'b' : 1, 'c' : 2}\n",
        "s = pd.Series(data)\n",
        "s"
      ]
    },
    {
      "cell_type": "markdown",
      "metadata": {
        "id": "zAS2-fg2e0OV"
      },
      "source": [
        "#### Scalar"
      ]
    },
    {
      "cell_type": "code",
      "execution_count": null,
      "metadata": {
        "id": "VqzZtGo9e0OV",
        "outputId": "cba4029d-4310-45e2-e681-711b067f31bc"
      },
      "outputs": [
        {
          "data": {
            "text/plain": [
              "0    5\n",
              "1    5\n",
              "2    5\n",
              "3    5\n",
              "dtype: int64"
            ]
          },
          "execution_count": 8,
          "metadata": {},
          "output_type": "execute_result"
        }
      ],
      "source": [
        "# Create a Series from Scalar\n",
        "s = pd.Series(5, index=[0, 1, 2, 3])\n",
        "s"
      ]
    },
    {
      "cell_type": "markdown",
      "metadata": {
        "id": "Qo5VLK5oe0OV"
      },
      "source": [
        "### Accessing Data from Series\n",
        "\n",
        "#### 1) By using the position"
      ]
    },
    {
      "cell_type": "code",
      "execution_count": null,
      "metadata": {
        "id": "a3ZCUw3Ze0OW",
        "outputId": "16debdd6-14b1-4c9c-97ba-006e67cd49f3"
      },
      "outputs": [
        {
          "data": {
            "text/plain": [
              "0    1\n",
              "1    2\n",
              "2    3\n",
              "3    4\n",
              "4    5\n",
              "dtype: int64"
            ]
          },
          "execution_count": 9,
          "metadata": {},
          "output_type": "execute_result"
        }
      ],
      "source": [
        "# Data in the series can be accessed similar to that in an ndarray.\n",
        "s = pd.Series([1,2,3,4,5])\n",
        "s"
      ]
    },
    {
      "cell_type": "code",
      "execution_count": null,
      "metadata": {
        "id": "77DtB31xe0OW",
        "outputId": "eafd7a9b-6ec0-4d0c-bd5a-cd70de09888b"
      },
      "outputs": [
        {
          "data": {
            "text/plain": [
              "1"
            ]
          },
          "execution_count": 10,
          "metadata": {},
          "output_type": "execute_result"
        }
      ],
      "source": [
        "#retrieve the first element\n",
        "s[0]"
      ]
    },
    {
      "cell_type": "code",
      "execution_count": null,
      "metadata": {
        "id": "AHhD54MRe0OW",
        "outputId": "11a4d41a-e60a-46c8-c48e-1e70371fa591"
      },
      "outputs": [
        {
          "data": {
            "text/plain": [
              "0    1\n",
              "1    2\n",
              "2    3\n",
              "dtype: int64"
            ]
          },
          "execution_count": 11,
          "metadata": {},
          "output_type": "execute_result"
        }
      ],
      "source": [
        "# first 3 elements\n",
        "s[0:3]   #[start,stop,step] # remember stop is exclusive"
      ]
    },
    {
      "cell_type": "code",
      "execution_count": null,
      "metadata": {
        "id": "yHwkW2oxe0OW",
        "outputId": "afcf4db4-17b7-4f96-e5bb-9a6daf149d1a"
      },
      "outputs": [
        {
          "data": {
            "text/plain": [
              "2    3\n",
              "3    4\n",
              "4    5\n",
              "dtype: int64"
            ]
          },
          "execution_count": 12,
          "metadata": {},
          "output_type": "execute_result"
        }
      ],
      "source": [
        "# last 3 elements\n",
        "s[-3:]"
      ]
    },
    {
      "cell_type": "markdown",
      "metadata": {
        "id": "9rqsDA3qe0OW"
      },
      "source": [
        "#### 2) By using the keys"
      ]
    },
    {
      "cell_type": "code",
      "execution_count": null,
      "metadata": {
        "id": "ru4ers8Me0OW",
        "outputId": "bac88b02-f59e-45b4-a08d-cc08d02ecda9"
      },
      "outputs": [
        {
          "data": {
            "text/plain": [
              "a    1\n",
              "b    2\n",
              "c    3\n",
              "d    4\n",
              "e    5\n",
              "dtype: int64"
            ]
          },
          "execution_count": 13,
          "metadata": {},
          "output_type": "execute_result"
        }
      ],
      "source": [
        "s = pd.Series([1,2,3,4,5],index = ['a','b','c','d','e'])\n",
        "s"
      ]
    },
    {
      "cell_type": "code",
      "execution_count": null,
      "metadata": {
        "id": "ZSydmUjbe0OY",
        "outputId": "c729ef7d-abdb-474c-e9e5-b37dbab2572b"
      },
      "outputs": [
        {
          "data": {
            "text/plain": [
              "1"
            ]
          },
          "execution_count": 14,
          "metadata": {},
          "output_type": "execute_result"
        }
      ],
      "source": [
        "#retrieve a single element\n",
        "s['a']"
      ]
    },
    {
      "cell_type": "code",
      "execution_count": null,
      "metadata": {
        "id": "rpzQPnLQe0OY",
        "outputId": "dbbf15f2-c5eb-40d2-e94f-898dd0d6f055"
      },
      "outputs": [
        {
          "data": {
            "text/plain": [
              "a    1\n",
              "b    2\n",
              "c    3\n",
              "dtype: int64"
            ]
          },
          "execution_count": 15,
          "metadata": {},
          "output_type": "execute_result"
        }
      ],
      "source": [
        "#retrieve a multiple elements\n",
        "s[['a','b','c']]"
      ]
    },
    {
      "cell_type": "code",
      "execution_count": null,
      "metadata": {
        "id": "XUU5J6b-e0OY"
      },
      "outputs": [],
      "source": [
        "#if that key is not present it will produce an error\n",
        "# s['f']"
      ]
    },
    {
      "cell_type": "markdown",
      "metadata": {
        "id": "qYbz4twGe0OZ"
      },
      "source": [
        "#### to get the indexes"
      ]
    },
    {
      "cell_type": "code",
      "execution_count": null,
      "metadata": {
        "id": "QU_d1ks9e0OZ",
        "outputId": "fe33b734-1bd8-45fc-b90a-24e0e504bce5"
      },
      "outputs": [
        {
          "data": {
            "text/plain": [
              "Index(['a', 'b', 'c', 'd', 'e'], dtype='object')"
            ]
          },
          "execution_count": 17,
          "metadata": {},
          "output_type": "execute_result"
        }
      ],
      "source": [
        "s.index"
      ]
    },
    {
      "cell_type": "markdown",
      "metadata": {
        "id": "xcv_xT4ve0OZ"
      },
      "source": [
        "#### to get the values"
      ]
    },
    {
      "cell_type": "code",
      "execution_count": null,
      "metadata": {
        "id": "KkyQvT1Ce0OZ",
        "outputId": "46220d8f-480e-4acd-ce43-c76bb9f02527"
      },
      "outputs": [
        {
          "data": {
            "text/plain": [
              "array([1, 2, 3, 4, 5], dtype=int64)"
            ]
          },
          "execution_count": 18,
          "metadata": {},
          "output_type": "execute_result"
        }
      ],
      "source": [
        "s.values"
      ]
    },
    {
      "cell_type": "code",
      "execution_count": null,
      "metadata": {
        "id": "6iidHQtye0OZ"
      },
      "outputs": [],
      "source": []
    },
    {
      "cell_type": "code",
      "execution_count": null,
      "metadata": {
        "id": "ZzVNyzVHe0OZ"
      },
      "outputs": [],
      "source": []
    },
    {
      "cell_type": "markdown",
      "metadata": {
        "id": "-SO3L0DDe0OZ"
      },
      "source": [
        "## DataFrame\n",
        "A Data frame is a two-dimensional data structure, i.e., data is aligned in a tabular fashion in rows and columns"
      ]
    },
    {
      "cell_type": "markdown",
      "metadata": {
        "id": "GNlLXMQXe0OZ"
      },
      "source": [
        "### Create an Empty DataFrame"
      ]
    },
    {
      "cell_type": "code",
      "execution_count": null,
      "metadata": {
        "id": "SO0vsC9ne0OZ",
        "outputId": "1935351f-2c96-447a-f484-1da558944277"
      },
      "outputs": [
        {
          "name": "stdout",
          "output_type": "stream",
          "text": [
            "Empty DataFrame\n",
            "Columns: []\n",
            "Index: []\n"
          ]
        }
      ],
      "source": [
        "# A basic DataFrame, which can be created is an Empty Dataframe.\n",
        "import pandas as pd\n",
        "df = pd.DataFrame()\n",
        "print(df)"
      ]
    },
    {
      "cell_type": "markdown",
      "metadata": {
        "id": "Kgn3sPwFe0Oa"
      },
      "source": [
        "### Create a DataFrame from Dict of lists/ndArray\n",
        "* All the ndarrays must be of same length.\n",
        "* If index is passed, then the length of the index should equal to the length of the arrays.\n",
        "* If no index is passed, then by default, index will be range(n), where n is the array length."
      ]
    },
    {
      "cell_type": "code",
      "execution_count": null,
      "metadata": {
        "id": "sZECEu-ge0Oa",
        "outputId": "ba00872f-aaee-4d66-e9da-62f0a74db8c9"
      },
      "outputs": [
        {
          "name": "stdout",
          "output_type": "stream",
          "text": [
            "{'Name': ['Ashay', 'Himanshu', 'Padam', 'Ravi'], 'Age': [22, 23, 24, 25]}\n"
          ]
        },
        {
          "data": {
            "text/html": [
              "<div>\n",
              "<style scoped>\n",
              "    .dataframe tbody tr th:only-of-type {\n",
              "        vertical-align: middle;\n",
              "    }\n",
              "\n",
              "    .dataframe tbody tr th {\n",
              "        vertical-align: top;\n",
              "    }\n",
              "\n",
              "    .dataframe thead th {\n",
              "        text-align: right;\n",
              "    }\n",
              "</style>\n",
              "<table border=\"1\" class=\"dataframe\">\n",
              "  <thead>\n",
              "    <tr style=\"text-align: right;\">\n",
              "      <th></th>\n",
              "      <th>Name</th>\n",
              "      <th>Age</th>\n",
              "    </tr>\n",
              "  </thead>\n",
              "  <tbody>\n",
              "    <tr>\n",
              "      <th>0</th>\n",
              "      <td>Ashay</td>\n",
              "      <td>22</td>\n",
              "    </tr>\n",
              "    <tr>\n",
              "      <th>1</th>\n",
              "      <td>Himanshu</td>\n",
              "      <td>23</td>\n",
              "    </tr>\n",
              "    <tr>\n",
              "      <th>2</th>\n",
              "      <td>Padam</td>\n",
              "      <td>24</td>\n",
              "    </tr>\n",
              "    <tr>\n",
              "      <th>3</th>\n",
              "      <td>Ravi</td>\n",
              "      <td>25</td>\n",
              "    </tr>\n",
              "  </tbody>\n",
              "</table>\n",
              "</div>"
            ],
            "text/plain": [
              "       Name  Age\n",
              "0     Ashay   22\n",
              "1  Himanshu   23\n",
              "2     Padam   24\n",
              "3      Ravi   25"
            ]
          },
          "execution_count": 20,
          "metadata": {},
          "output_type": "execute_result"
        }
      ],
      "source": [
        "# Ex1) without index\n",
        "name = ['Ashay', 'Himanshu', 'Padam', 'Ravi']\n",
        "age = [22,23,24,25]\n",
        "\n",
        "# creating dictionary\n",
        "data = {'Name':name,'Age':age}\n",
        "print(data)\n",
        "# passing dictionary to create df\n",
        "df = pd.DataFrame(data)\n",
        "df"
      ]
    },
    {
      "cell_type": "code",
      "execution_count": null,
      "metadata": {
        "id": "6V_rjOkNe0Oa",
        "outputId": "8d60d3f9-c177-4b68-c8d5-232a6fd9bcd1"
      },
      "outputs": [
        {
          "data": {
            "text/html": [
              "<div>\n",
              "<style scoped>\n",
              "    .dataframe tbody tr th:only-of-type {\n",
              "        vertical-align: middle;\n",
              "    }\n",
              "\n",
              "    .dataframe tbody tr th {\n",
              "        vertical-align: top;\n",
              "    }\n",
              "\n",
              "    .dataframe thead th {\n",
              "        text-align: right;\n",
              "    }\n",
              "</style>\n",
              "<table border=\"1\" class=\"dataframe\">\n",
              "  <thead>\n",
              "    <tr style=\"text-align: right;\">\n",
              "      <th></th>\n",
              "      <th>Name</th>\n",
              "      <th>Age</th>\n",
              "    </tr>\n",
              "  </thead>\n",
              "  <tbody>\n",
              "    <tr>\n",
              "      <th>rank1</th>\n",
              "      <td>Ashay</td>\n",
              "      <td>22</td>\n",
              "    </tr>\n",
              "    <tr>\n",
              "      <th>rank2</th>\n",
              "      <td>Himanshu</td>\n",
              "      <td>23</td>\n",
              "    </tr>\n",
              "    <tr>\n",
              "      <th>rank3</th>\n",
              "      <td>Padam</td>\n",
              "      <td>24</td>\n",
              "    </tr>\n",
              "    <tr>\n",
              "      <th>rank4</th>\n",
              "      <td>Ravi</td>\n",
              "      <td>25</td>\n",
              "    </tr>\n",
              "  </tbody>\n",
              "</table>\n",
              "</div>"
            ],
            "text/plain": [
              "           Name  Age\n",
              "rank1     Ashay   22\n",
              "rank2  Himanshu   23\n",
              "rank3     Padam   24\n",
              "rank4      Ravi   25"
            ]
          },
          "execution_count": 21,
          "metadata": {},
          "output_type": "execute_result"
        }
      ],
      "source": [
        "#Ex2) with index\n",
        "name = ['Ashay', 'Himanshu', 'Padam', 'Ravi']\n",
        "age = [22,23,24,25]\n",
        "\n",
        "# my new indexes\n",
        "indexes = ['rank1','rank2','rank3','rank4']\n",
        "\n",
        "#this is my dictionary\n",
        "data = {'Name':name,'Age':age}\n",
        "\n",
        "#passing dictionary to create dataframe\n",
        "df = pd.DataFrame(data, index=indexes)\n",
        "df"
      ]
    },
    {
      "cell_type": "markdown",
      "metadata": {
        "id": "dwonOdHDe0Oa"
      },
      "source": [
        "### Column Selection"
      ]
    },
    {
      "cell_type": "code",
      "execution_count": null,
      "metadata": {
        "id": "RKUjcwO9e0Oa",
        "outputId": "40b43f18-36f5-42d5-ce2a-1fe25d9d2e45"
      },
      "outputs": [
        {
          "data": {
            "text/plain": [
              "rank1    22\n",
              "rank2    23\n",
              "rank3    24\n",
              "rank4    25\n",
              "Name: Age, dtype: int64"
            ]
          },
          "execution_count": 22,
          "metadata": {},
          "output_type": "execute_result"
        }
      ],
      "source": [
        "df['Age']"
      ]
    },
    {
      "cell_type": "code",
      "execution_count": null,
      "metadata": {
        "id": "9Ocar5B5e0Oa",
        "outputId": "bd9727c2-14bd-43d6-829e-3d552f7bb08c"
      },
      "outputs": [
        {
          "data": {
            "text/plain": [
              "rank1    22\n",
              "rank2    23\n",
              "rank3    24\n",
              "rank4    25\n",
              "Name: Age, dtype: int64"
            ]
          },
          "execution_count": 23,
          "metadata": {},
          "output_type": "execute_result"
        }
      ],
      "source": [
        "df.Age"
      ]
    },
    {
      "cell_type": "markdown",
      "metadata": {
        "id": "y_pQQQgme0Ob"
      },
      "source": [
        "### Column Addition"
      ]
    },
    {
      "cell_type": "code",
      "execution_count": null,
      "metadata": {
        "id": "Lgi4L3efe0On",
        "outputId": "5fb74136-af46-40cf-8fd8-82e2c27fb9e9"
      },
      "outputs": [
        {
          "data": {
            "text/html": [
              "<div>\n",
              "<style scoped>\n",
              "    .dataframe tbody tr th:only-of-type {\n",
              "        vertical-align: middle;\n",
              "    }\n",
              "\n",
              "    .dataframe tbody tr th {\n",
              "        vertical-align: top;\n",
              "    }\n",
              "\n",
              "    .dataframe thead th {\n",
              "        text-align: right;\n",
              "    }\n",
              "</style>\n",
              "<table border=\"1\" class=\"dataframe\">\n",
              "  <thead>\n",
              "    <tr style=\"text-align: right;\">\n",
              "      <th></th>\n",
              "      <th>Name</th>\n",
              "      <th>Age</th>\n",
              "      <th>City</th>\n",
              "    </tr>\n",
              "  </thead>\n",
              "  <tbody>\n",
              "    <tr>\n",
              "      <th>rank1</th>\n",
              "      <td>Ashay</td>\n",
              "      <td>22</td>\n",
              "      <td>Banglore</td>\n",
              "    </tr>\n",
              "    <tr>\n",
              "      <th>rank2</th>\n",
              "      <td>Himanshu</td>\n",
              "      <td>23</td>\n",
              "      <td>Pune</td>\n",
              "    </tr>\n",
              "    <tr>\n",
              "      <th>rank3</th>\n",
              "      <td>Padam</td>\n",
              "      <td>24</td>\n",
              "      <td>Hyderabad</td>\n",
              "    </tr>\n",
              "    <tr>\n",
              "      <th>rank4</th>\n",
              "      <td>Ravi</td>\n",
              "      <td>25</td>\n",
              "      <td>Mumbai</td>\n",
              "    </tr>\n",
              "  </tbody>\n",
              "</table>\n",
              "</div>"
            ],
            "text/plain": [
              "           Name  Age       City\n",
              "rank1     Ashay   22   Banglore\n",
              "rank2  Himanshu   23       Pune\n",
              "rank3     Padam   24  Hyderabad\n",
              "rank4      Ravi   25     Mumbai"
            ]
          },
          "execution_count": 24,
          "metadata": {},
          "output_type": "execute_result"
        }
      ],
      "source": [
        "# say suppose you want to add city column\n",
        "city = ['Banglore','Pune','Hyderabad','Mumbai']\n",
        "\n",
        "#adding new column named 'City'\n",
        "df[\"City\"] = city\n",
        "df"
      ]
    },
    {
      "cell_type": "markdown",
      "metadata": {
        "id": "tw_e5YxCe0On"
      },
      "source": [
        "### Column Deletion"
      ]
    },
    {
      "cell_type": "code",
      "execution_count": null,
      "metadata": {
        "id": "TQwo4lehe0Oo",
        "outputId": "f7cc3d63-735b-4c27-bb80-eca12011d341"
      },
      "outputs": [
        {
          "data": {
            "text/html": [
              "<div>\n",
              "<style scoped>\n",
              "    .dataframe tbody tr th:only-of-type {\n",
              "        vertical-align: middle;\n",
              "    }\n",
              "\n",
              "    .dataframe tbody tr th {\n",
              "        vertical-align: top;\n",
              "    }\n",
              "\n",
              "    .dataframe thead th {\n",
              "        text-align: right;\n",
              "    }\n",
              "</style>\n",
              "<table border=\"1\" class=\"dataframe\">\n",
              "  <thead>\n",
              "    <tr style=\"text-align: right;\">\n",
              "      <th></th>\n",
              "      <th>Name</th>\n",
              "      <th>Age</th>\n",
              "    </tr>\n",
              "  </thead>\n",
              "  <tbody>\n",
              "    <tr>\n",
              "      <th>rank1</th>\n",
              "      <td>Ashay</td>\n",
              "      <td>22</td>\n",
              "    </tr>\n",
              "    <tr>\n",
              "      <th>rank2</th>\n",
              "      <td>Himanshu</td>\n",
              "      <td>23</td>\n",
              "    </tr>\n",
              "    <tr>\n",
              "      <th>rank3</th>\n",
              "      <td>Padam</td>\n",
              "      <td>24</td>\n",
              "    </tr>\n",
              "    <tr>\n",
              "      <th>rank4</th>\n",
              "      <td>Ravi</td>\n",
              "      <td>25</td>\n",
              "    </tr>\n",
              "  </tbody>\n",
              "</table>\n",
              "</div>"
            ],
            "text/plain": [
              "           Name  Age\n",
              "rank1     Ashay   22\n",
              "rank2  Himanshu   23\n",
              "rank3     Padam   24\n",
              "rank4      Ravi   25"
            ]
          },
          "execution_count": 25,
          "metadata": {},
          "output_type": "execute_result"
        }
      ],
      "source": [
        "# 1) Using del keyword\n",
        "del df[\"City\"]\n",
        "df"
      ]
    },
    {
      "cell_type": "code",
      "execution_count": null,
      "metadata": {
        "id": "usS4t5kYe0Oo",
        "outputId": "faa64ea9-5926-400d-dd6c-02df02e6ae34"
      },
      "outputs": [
        {
          "data": {
            "text/html": [
              "<div>\n",
              "<style scoped>\n",
              "    .dataframe tbody tr th:only-of-type {\n",
              "        vertical-align: middle;\n",
              "    }\n",
              "\n",
              "    .dataframe tbody tr th {\n",
              "        vertical-align: top;\n",
              "    }\n",
              "\n",
              "    .dataframe thead th {\n",
              "        text-align: right;\n",
              "    }\n",
              "</style>\n",
              "<table border=\"1\" class=\"dataframe\">\n",
              "  <thead>\n",
              "    <tr style=\"text-align: right;\">\n",
              "      <th></th>\n",
              "      <th>Name</th>\n",
              "    </tr>\n",
              "  </thead>\n",
              "  <tbody>\n",
              "    <tr>\n",
              "      <th>rank1</th>\n",
              "      <td>Ashay</td>\n",
              "    </tr>\n",
              "    <tr>\n",
              "      <th>rank2</th>\n",
              "      <td>Himanshu</td>\n",
              "    </tr>\n",
              "    <tr>\n",
              "      <th>rank3</th>\n",
              "      <td>Padam</td>\n",
              "    </tr>\n",
              "    <tr>\n",
              "      <th>rank4</th>\n",
              "      <td>Ravi</td>\n",
              "    </tr>\n",
              "  </tbody>\n",
              "</table>\n",
              "</div>"
            ],
            "text/plain": [
              "           Name\n",
              "rank1     Ashay\n",
              "rank2  Himanshu\n",
              "rank3     Padam\n",
              "rank4      Ravi"
            ]
          },
          "execution_count": 26,
          "metadata": {},
          "output_type": "execute_result"
        }
      ],
      "source": [
        "# 2) Using pop function\n",
        "df.pop('Age')\n",
        "df"
      ]
    },
    {
      "cell_type": "code",
      "execution_count": null,
      "metadata": {
        "id": "-X2mp2Lye0Oo"
      },
      "outputs": [],
      "source": []
    },
    {
      "cell_type": "code",
      "execution_count": null,
      "metadata": {
        "id": "6pTb7GGpe0Oo"
      },
      "outputs": [],
      "source": []
    }
  ],
  "metadata": {
    "kernelspec": {
      "display_name": "Python 3",
      "language": "python",
      "name": "python3"
    },
    "language_info": {
      "codemirror_mode": {
        "name": "ipython",
        "version": 3
      },
      "file_extension": ".py",
      "mimetype": "text/x-python",
      "name": "python",
      "nbconvert_exporter": "python",
      "pygments_lexer": "ipython3",
      "version": "3.7.3"
    },
    "colab": {
      "provenance": [],
      "include_colab_link": true
    }
  },
  "nbformat": 4,
  "nbformat_minor": 0
}